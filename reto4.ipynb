{
 "cells": [
  {
   "cell_type": "code",
   "execution_count": 13,
   "metadata": {},
   "outputs": [],
   "source": [
    "# reto 4\n"
   ]
  },
  {
   "cell_type": "code",
   "execution_count": 15,
   "metadata": {},
   "outputs": [
    {
     "name": "stdout",
     "output_type": "stream",
     "text": [
      "True\n",
      "False\n",
      "False\n"
     ]
    }
   ],
   "source": [
    "def es_vocal_minuscula(numero):\n",
    "  \"\"\"\n",
    "  Determina si un número entero corresponde al código ASCII de una vocal minúscula.\n",
    "\n",
    "  Args:\n",
    "    numero: El número entero a comprobar.\n",
    "\n",
    "  Returns:\n",
    "    True si el número corresponde al código ASCII de una vocal minúscula, False en caso contrario.\n",
    "  \"\"\"\n",
    "\n",
    "  vocales_minusculas = ['a', 'e', 'i', 'o', 'u']\n",
    "  for vocal in vocales_minusculas:\n",
    "    if numero == ord(vocal):\n",
    "      return True\n",
    "  return False\n",
    "\n",
    "\n",
    "print(es_vocal_minuscula(97))  # True\n",
    "print(es_vocal_minuscula(122))  # True\n",
    "print(es_vocal_minuscula(123))  # False"
   ]
  },
  {
   "cell_type": "markdown",
   "metadata": {},
   "source": [
    "Este código funciona de la siguiente manera:\n",
    "\n",
    "-La función es_vocal_minuscula() recibe un número entero como argumento.\n",
    "-La función crea una lista con los caracteres de las vocales minúsculas.\n",
    "-La función crea una lista con los códigos ASCII de las vocales minúsculas.\n",
    "-La función comprueba si el número recibido está en la lista de códigos ASCII de las vocales minúsculas.\n",
    "-Si el número está en la lista, la función devuelve True. En caso contrario, la función devuelve False."
   ]
  },
  {
   "cell_type": "code",
   "execution_count": 16,
   "metadata": {},
   "outputs": [
    {
     "name": "stdout",
     "output_type": "stream",
     "text": [
      "El número 97 corresponde al código ASCII de una vocal minúscula.\n"
     ]
    }
   ],
   "source": [
    "# un ejemplo para usar el codigo es el siguiente\n",
    "numero = 97\n",
    "\n",
    "if es_vocal_minuscula(numero):\n",
    "  print(\"El número {} corresponde al código ASCII de una vocal minúscula.\".format(numero))\n",
    "else:\n",
    "  print(\"El número {} no corresponde al código ASCII de una vocal minúscula.\".format(numero))"
   ]
  },
  {
   "cell_type": "code",
   "execution_count": 17,
   "metadata": {},
   "outputs": [
    {
     "name": "stdout",
     "output_type": "stream",
     "text": [
      "False\n",
      "False\n",
      "False\n"
     ]
    }
   ],
   "source": [
    "# Problema 2: Determinar si el código ASCII de primera letra de una cadena de longitud 1 es par o no.\n",
    "def es_par(cadena):\n",
    "  \"\"\"\n",
    "  Determina si el código ASCII de primera letra de una cadena de longitud 1 es par o no.\n",
    "\n",
    "  Args:\n",
    "    cadena: La cadena a evaluar.\n",
    "\n",
    "  Returns:\n",
    "    True si el código ASCII de primera letra de la cadena es par, False en caso contrario.\n",
    "  \"\"\"\n",
    "\n",
    "  if len(cadena) != 1:\n",
    "    raise ValueError(\"La cadena debe tener longitud 1\")\n",
    "  return ord(cadena[0]) % 2 == 0\n",
    "\n",
    "\n",
    "print(es_par(\"a\"))  # False\n",
    "print(es_par(\"e\"))  # True\n",
    "print(es_par(\"i\"))  # False"
   ]
  },
  {
   "cell_type": "code",
   "execution_count": 18,
   "metadata": {},
   "outputs": [
    {
     "name": "stdout",
     "output_type": "stream",
     "text": [
      "True\n",
      "False\n",
      "False\n"
     ]
    }
   ],
   "source": [
    "# Problema 3: Determinar si un carácter es un dígito o no\n",
    "def es_digito(caracter):\n",
    "  \"\"\"\n",
    "  Determina si un carácter es un dígito o no.\n",
    "\n",
    "  Args:\n",
    "    caracter: El carácter a evaluar.\n",
    "\n",
    "  Returns:\n",
    "    True si el carácter es un dígito, False en caso contrario.\n",
    "  \"\"\"\n",
    "\n",
    "  return caracter in \"0123456789\"\n",
    "\n",
    "\n",
    "print(es_digito(\"0\"))  # True\n",
    "print(es_digito(\"a\"))  # False\n",
    "print(es_digito(\"A\"))  # False\n"
   ]
  },
  {
   "cell_type": "code",
   "execution_count": null,
   "metadata": {},
   "outputs": [],
   "source": [
    "# Problema 4: Determinar si un número real es positivo, negativo o cero\n",
    "def tipo_numero(numero):\n",
    "  \"\"\"\n",
    "  Determina si un número real es positivo, negativo o cero.\n",
    "\n",
    "  Args:\n",
    "    numero: El número real a evaluar.\n",
    "\n",
    "  Returns:\n",
    "    \"Positivo\" si el número es positivo, \"Negativo\" si el número es negativo, \"El número x es el neutro para la suma\" si el número es cero.\n",
    "  \"\"\"\n",
    "\n",
    "  if numero > 0:\n",
    "    return \"Positivo\"\n",
    "  elif numero < 0:\n",
    "    return \"Negativo\"\n",
    "  else:\n",
    "    return \"El número x es el neutro para la suma\"\n",
    "\n",
    "\n",
    "print(tipo_numero(1.0))  # Positivo\n",
    "print(tipo_numero(-1.0))  # Negativo\n",
    "print(tipo_numero(0.0))  # El número x es el neutro para la suma\n"
   ]
  },
  {
   "cell_type": "code",
   "execution_count": 20,
   "metadata": {},
   "outputs": [
    {
     "name": "stdout",
     "output_type": "stream",
     "text": [
      "False\n"
     ]
    }
   ],
   "source": [
    "# Problema 5: Dado el centro y el radio de un círculo, determinar si un punto de R2 pertenece o no al interior del círculo.\n",
    "def pertenece_circulo(centro, radio, punto):\n",
    "  \"\"\"\n",
    "  Determina si un punto de R2 pertenece o no al interior de un círculo.\n",
    "\n",
    "  Args:\n",
    "    centro: El centro del círculo.\n",
    "    radio: El radio del círculo.\n",
    "    punto: El punto a evaluar.\n",
    "\n",
    "  Returns:\n",
    "    True si el punto pertenece al interior del círculo, False en caso contrario.\n",
    "  \"\"\"\n",
    "\n",
    "  distancia = ((punto[0] - centro[0])**2 + (punto[1] - centro[1])**2)**0.5\n",
    "  return distancia <= radio\n",
    "\n",
    "\n",
    "centro = (0, 0)\n",
    "radio = 1\n",
    "punto = (1, 1)\n",
    "\n",
    "print(pertenece_circulo(centro, radio, punto))  # True\n",
    "\n",
    "centro = (0, 0)\n",
    "radio = 1\n",
    "punto = (2, 2)\n"
   ]
  },
  {
   "cell_type": "code",
   "execution_count": null,
   "metadata": {},
   "outputs": [],
   "source": [
    "# Problema 6: Dadas tres longitudes positivas, determinar si con esas longitudes se puede construir un triángulo.\n",
    "def se_puede_construir_triangulo(a, b, c):\n",
    "  \"\"\"\n",
    "  Determina si con tres longitudes positivas se puede construir un triángulo.\n",
    "\n",
    "  Args:\n",
    "    a: La longitud del primer lado.\n",
    "    b: La longitud del segundo lado.\n",
    "    c: La longitud del tercer lado.\n",
    "\n",
    "  Returns:\n",
    "    True si se puede construir un triángulo, False en caso contrario.\n",
    "  \"\"\"\n",
    "\n",
    "  return a + b > c and b + c > a and a + c > b\n",
    "\n",
    "\n",
    "print(se_puede_construir_triangulo(3, 4, 5))  # True\n",
    "print(se_puede_construir_triangulo(3, 4, 6))  # False\n"
   ]
  }
 ],
 "metadata": {
  "kernelspec": {
   "display_name": "Python 3",
   "language": "python",
   "name": "python3"
  },
  "language_info": {
   "codemirror_mode": {
    "name": "ipython",
    "version": 3
   },
   "file_extension": ".py",
   "mimetype": "text/x-python",
   "name": "python",
   "nbconvert_exporter": "python",
   "pygments_lexer": "ipython3",
   "version": "3.11.4"
  },
  "orig_nbformat": 4
 },
 "nbformat": 4,
 "nbformat_minor": 2
}
